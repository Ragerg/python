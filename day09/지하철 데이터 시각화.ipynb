{
 "cells": [
  {
   "cell_type": "code",
   "execution_count": 6,
   "id": "c55c309b",
   "metadata": {},
   "outputs": [],
   "source": [
    "# 유임승차 승객수가 가장 많은 역과 승객 수 조회\n",
    "import csv"
   ]
  },
  {
   "cell_type": "code",
   "execution_count": 12,
   "id": "d87c9789",
   "metadata": {},
   "outputs": [
    {
     "name": "stdout",
     "output_type": "stream",
     "text": [
      "유임승차 승객수가 가장 많은 역은 강남역이고, 승객 수는 2135670명 이다.\n"
     ]
    }
   ],
   "source": [
    "with open('data/202308_subway.csv', 'r', encoding='utf-8') as file:\n",
    "    data = csv.reader(file)\n",
    "    next(data)\n",
    "    # maxInfo[0] : 유임승차 승객수가 가장 많은 역\n",
    "    # maxInfo[1] : 유임승차 승객수가 가장 많은 역의 승객수\n",
    "    maxInfo = ['', 0]\n",
    "    for row in data:\n",
    "        row[4] = int(row[4].replace(',', ''))\n",
    "        if row[4] > maxInfo[1]:\n",
    "            maxInfo[0] = row[3]\n",
    "            maxInfo[1] = row[4]\n",
    "    print(f'유임승차 승객수가 가장 많은 역은 {maxInfo[0]}역이고, 승객 수는 {maxInfo[1]}명 이다.')"
   ]
  },
  {
   "cell_type": "code",
   "execution_count": 22,
   "id": "01c7d8d2",
   "metadata": {},
   "outputs": [
    {
     "name": "stdout",
     "output_type": "stream",
     "text": [
      "유임승차 : 강남(2135670명)\n",
      "유임하차 : 홍대입구(2100640명)\n",
      "무임승차 : 영등포(279986명)\n",
      "무임하차 : 영등포(280606명)\n"
     ]
    }
   ],
   "source": [
    "# 유임승차, 유임하차, 무임승차, 무임하차 승객수가 가장 많은 역과 승객 수 조회\n",
    "with open('data/202308_subway.csv', 'r', encoding='utf-8') as file:\n",
    "    data = csv.reader(file)\n",
    "    next(data)\n",
    "    stations = [''] *4\n",
    "    max_persons = [0] *4\n",
    "#     print(stations, max_persons)\n",
    "    for row in data:\n",
    "        for i in range(4):\n",
    "            person = int(row[4+i].replace(',',''))\n",
    "            if person > max_persons[i]:\n",
    "                stations[i] = row[3]\n",
    "                max_persons[i] = person\n",
    "    titles = ['유임승차', '유임하차', '무임승차', '무임하차']\n",
    "    for i in range(len(stations)):\n",
    "        print(f'{titles[i]} : {stations[i]}({max_persons[i]}명)')"
   ]
  },
  {
   "cell_type": "code",
   "execution_count": 30,
   "id": "587ecb0f",
   "metadata": {},
   "outputs": [
    {
     "name": "stdout",
     "output_type": "stream",
     "text": [
      "신림(2호선) : 186200명\n"
     ]
    }
   ],
   "source": [
    "# 출근시간(오전 7시)에 가장 많이 승객이 승차하는 역을 검색\n",
    "with open('data/202308_trans_time.csv', 'r', encoding='utf-8') as file:\n",
    "    data = csv.reader(file)\n",
    "    next(data)\n",
    "    next(data)\n",
    "    \n",
    "    station = ''\n",
    "    max_person = 0\n",
    "    \n",
    "    for row in data:\n",
    "        person = int(row[10].replace(',',''))\n",
    "        if person > max_person:\n",
    "            station = f'{row[3]}({row[1]})'\n",
    "            max_person = person\n",
    "    print(f'{station} : {max_person}명')"
   ]
  },
  {
   "cell_type": "code",
   "execution_count": 57,
   "id": "89cc5a56",
   "metadata": {},
   "outputs": [
    {
     "name": "stdout",
     "output_type": "stream",
     "text": [
      "신림(2호선) : 613852명\n"
     ]
    }
   ],
   "source": [
    "# 출근시간대(오전 7시, 8시, 9시) 승차 ㅅ승객수가 가장 많은 역 조회\n",
    "def to_int(data):\n",
    "    return int(data.replace(',', ''))\n",
    "               \n",
    "with open('data/202308_trans_time.csv', 'r', encoding='utf-8') as file:\n",
    "    data = csv.reader(file)\n",
    "    next(data)\n",
    "    next(data)\n",
    "    max_persons = [0]\n",
    "    station=''\n",
    "    for row in data:\n",
    "        persons = row[10:15:2]\n",
    "        persons = list(map(to_int, persons))\n",
    "        \n",
    "        if sum(persons) > sum(max_persons):\n",
    "            station = f'{row[3]}({row[1]})'\n",
    "            max_persons = persons\n",
    "    print(f'{station} : {sum(max_persons)}명')\n",
    "        \n",
    "        # persons = [int(p.replace(',',''))for p in row[10:15:2]]\n",
    "        # print(persons, sum(persons))"
   ]
  },
  {
   "cell_type": "code",
   "execution_count": 58,
   "id": "59f98f95",
   "metadata": {},
   "outputs": [],
   "source": [
    "import matplotlib.pyplot as plt"
   ]
  },
  {
   "cell_type": "code",
   "execution_count": 59,
   "id": "ac977f95",
   "metadata": {},
   "outputs": [
    {
     "data": {
      "text/plain": [
       "([<matplotlib.patches.Wedge at 0x212d624cf10>,\n",
       "  <matplotlib.patches.Wedge at 0x212d624c0d0>,\n",
       "  <matplotlib.patches.Wedge at 0x212d624dc00>],\n",
       " [Text(0.6372174080319106, 0.8966348057604577, '7시대'),\n",
       "  Text(-1.089976564800638, -0.14815899630262183, '8시대'),\n",
       "  Text(0.7521786857356851, -0.8026376671480958, '9시대')],\n",
       " [Text(0.3475731316537694, 0.48907353041479507, '30.33%'),\n",
       "  Text(-0.5945326717094389, -0.08081399798324827, '43.63%'),\n",
       "  Text(0.4102792831285555, -0.4378023638989613, '26.03%')])"
      ]
     },
     "execution_count": 59,
     "metadata": {},
     "output_type": "execute_result"
    },
    {
     "name": "stderr",
     "output_type": "stream",
     "text": [
      "C:\\Users\\User\\anaconda3\\lib\\site-packages\\IPython\\core\\events.py:89: UserWarning: Glyph 49884 (\\N{HANGUL SYLLABLE SI}) missing from current font.\n",
      "  func(*args, **kwargs)\n",
      "C:\\Users\\User\\anaconda3\\lib\\site-packages\\IPython\\core\\events.py:89: UserWarning: Glyph 45824 (\\N{HANGUL SYLLABLE DAE}) missing from current font.\n",
      "  func(*args, **kwargs)\n",
      "C:\\Users\\User\\anaconda3\\lib\\site-packages\\IPython\\core\\pylabtools.py:152: UserWarning: Glyph 49884 (\\N{HANGUL SYLLABLE SI}) missing from current font.\n",
      "  fig.canvas.print_figure(bytes_io, **kw)\n",
      "C:\\Users\\User\\anaconda3\\lib\\site-packages\\IPython\\core\\pylabtools.py:152: UserWarning: Glyph 45824 (\\N{HANGUL SYLLABLE DAE}) missing from current font.\n",
      "  fig.canvas.print_figure(bytes_io, **kw)\n"
     ]
    },
    {
     "data": {
      "image/png": "[encoded data removed]",
      "text/plain": [
       "<Figure size 640x480 with 1 Axes>"
      ]
     },
     "metadata": {},
     "output_type": "display_data"
    }
   ],
   "source": [
    "plt.pie(max_persons, labels=['7시대', '8시대', '9시대'], autopct='%.2f%%')"
   ]
  },
  {
   "cell_type": "code",
   "execution_count": null,
   "id": "bfe0cbc7",
   "metadata": {},
   "outputs": [],
   "source": []
  }
 ],
 "metadata": {
  "kernelspec": {
   "display_name": "Python 3 (ipykernel)",
   "language": "python",
   "name": "python3"
  },
  "language_info": {
   "codemirror_mode": {
    "name": "ipython",
    "version": 3
   },
   "file_extension": ".py",
   "mimetype": "text/x-python",
   "name": "python",
   "nbconvert_exporter": "python",
   "pygments_lexer": "ipython3",
   "version": "3.10.9"
  }
 },
 "nbformat": 4,
 "nbformat_minor": 5
}
